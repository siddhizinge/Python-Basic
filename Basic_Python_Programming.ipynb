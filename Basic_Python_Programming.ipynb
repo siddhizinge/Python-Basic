{
 "cells": [
  {
   "cell_type": "markdown",
   "metadata": {},
   "source": [
    "# First Program\n"
   ]
  },
  {
   "cell_type": "code",
   "execution_count": 1,
   "metadata": {},
   "outputs": [
    {
     "name": "stdout",
     "output_type": "stream",
     "text": [
      "Hello I am Siddhi Zinge\n"
     ]
    }
   ],
   "source": [
    "print(\"Hello I am Siddhi Zinge\") #Printing the given statement"
   ]
  },
  {
   "cell_type": "code",
   "execution_count": 2,
   "metadata": {},
   "outputs": [
    {
     "name": "stdout",
     "output_type": "stream",
     "text": [
      "I am executing my First Python Program\n",
      "67\n"
     ]
    }
   ],
   "source": [
    "x = \"I am executing my First Python Program\" #Assigning variable to a string where values are stored\n",
    "print(x)\n",
    "\n",
    "y = 67 #Assigning variable to an integer where values are stored\n",
    "print(y)"
   ]
  },
  {
   "cell_type": "markdown",
   "metadata": {},
   "source": [
    "# Creating a Multi-line Statement using variables"
   ]
  },
  {
   "cell_type": "code",
   "execution_count": 3,
   "metadata": {},
   "outputs": [
    {
     "name": "stdout",
     "output_type": "stream",
     "text": [
      "Vikas studied in  University of Mumbai at the age 29 and completed his Masters in Mathematics\n"
     ]
    }
   ],
   "source": [
    "Name = \"Vikas\"\n",
    "Institute = \"University of Mumbai\"\n",
    "Age = 29\n",
    "Subject = \"Mathematics\"\n",
    "print(Name ,\"studied in \", Institute,\"at the age\",Age,\"and completed his Masters in\",Subject)"
   ]
  },
  {
   "cell_type": "markdown",
   "metadata": {},
   "source": [
    "# Types Of Format function"
   ]
  },
  {
   "cell_type": "code",
   "execution_count": 4,
   "metadata": {},
   "outputs": [
    {
     "name": "stdout",
     "output_type": "stream",
     "text": [
      "Hello, I am 18 years old ! I practice Python\n"
     ]
    }
   ],
   "source": [
    "print(\"Hello, I am {} years old ! I practice {}\".format(18,\"Python\")) #Using format function to exceute print statement"
   ]
  },
  {
   "cell_type": "code",
   "execution_count": 5,
   "metadata": {},
   "outputs": [
    {
     "name": "stdout",
     "output_type": "stream",
     "text": [
      "Hello, I am 18 years old ! I practice Python\n"
     ]
    }
   ],
   "source": [
    "# Default format function\n",
    "value_1 = 18\n",
    "value_2 = \"Python\"\n",
    "print(\"Hello, I am {} years old ! I practice {}\".format(value_1,value_2)) "
   ]
  },
  {
   "cell_type": "code",
   "execution_count": 6,
   "metadata": {},
   "outputs": [
    {
     "name": "stdout",
     "output_type": "stream",
     "text": [
      "Hello, I am 18 years old ! I practice Python\n"
     ]
    }
   ],
   "source": [
    "# Positional Format function\n",
    "value_1 = 18\n",
    "value_2 = \"Python\"\n",
    "print(\"Hello, I am {0} years old ! I practice {1}\".format(value_1,value_2)) "
   ]
  },
  {
   "cell_type": "code",
   "execution_count": 7,
   "metadata": {},
   "outputs": [
    {
     "name": "stdout",
     "output_type": "stream",
     "text": [
      "Hello, I am 18 years old ! I practice Python\n"
     ]
    }
   ],
   "source": [
    "#Keyword Format function\n",
    "value_1 = 18\n",
    "value_2 = \"Python\"\n",
    "print(\"Hello, I am {a} years old ! I practice {b}\".format(b=value_2,a=value_1)) "
   ]
  },
  {
   "cell_type": "markdown",
   "metadata": {},
   "source": [
    "# Assigning the variables and identifying their types"
   ]
  },
  {
   "cell_type": "code",
   "execution_count": 8,
   "metadata": {},
   "outputs": [
    {
     "name": "stdout",
     "output_type": "stream",
     "text": [
      "a has type : <class 'str'>\n"
     ]
    }
   ],
   "source": [
    "a = \"Siddhi\"\n",
    "print(\"a has type :\",type(a))"
   ]
  },
  {
   "cell_type": "code",
   "execution_count": 9,
   "metadata": {},
   "outputs": [
    {
     "name": "stdout",
     "output_type": "stream",
     "text": [
      "b has type : <class 'int'>\n"
     ]
    }
   ],
   "source": [
    "b = 34\n",
    "print(\"b has type :\",type(b))"
   ]
  },
  {
   "cell_type": "code",
   "execution_count": 10,
   "metadata": {},
   "outputs": [
    {
     "name": "stdout",
     "output_type": "stream",
     "text": [
      "c has type : <class 'float'>\n"
     ]
    }
   ],
   "source": [
    "c = 456.892\n",
    "print(\"c has type :\",type(c))"
   ]
  },
  {
   "cell_type": "code",
   "execution_count": 11,
   "metadata": {},
   "outputs": [
    {
     "name": "stdout",
     "output_type": "stream",
     "text": [
      "d has type : <class 'complex'>\n"
     ]
    }
   ],
   "source": [
    "d = 32j+87\n",
    "print(\"d has type :\",type(d))"
   ]
  },
  {
   "cell_type": "code",
   "execution_count": 12,
   "metadata": {},
   "outputs": [
    {
     "name": "stdout",
     "output_type": "stream",
     "text": [
      "e has type : <class 'list'>\n"
     ]
    }
   ],
   "source": [
    "e = [1,2,3,4,5]\n",
    "print(\"e has type :\",type(e))"
   ]
  },
  {
   "cell_type": "code",
   "execution_count": 13,
   "metadata": {},
   "outputs": [
    {
     "name": "stdout",
     "output_type": "stream",
     "text": [
      "f has type : <class 'tuple'>\n"
     ]
    }
   ],
   "source": [
    "f = (\"Siddhi\",90,\"Akshata\",35,65.43,\"Pratiksha\")\n",
    "print(\"f has type :\",type(f))"
   ]
  },
  {
   "cell_type": "code",
   "execution_count": 14,
   "metadata": {},
   "outputs": [
    {
     "name": "stdout",
     "output_type": "stream",
     "text": [
      "g has type : <class 'set'>\n"
     ]
    }
   ],
   "source": [
    "g = {\"s\",\"p\",\"a\",\"m\",40,20,70,100}\n",
    "print(\"g has type :\",type(g))"
   ]
  },
  {
   "cell_type": "code",
   "execution_count": 15,
   "metadata": {},
   "outputs": [
    {
     "name": "stdout",
     "output_type": "stream",
     "text": [
      "h has type : <class 'dict'>\n"
     ]
    }
   ],
   "source": [
    "h = {\"Name\":\"Riddhi\",\"Percentage\":85.86,\"Age\":24,\"Place\":\"Chiplun\"}\n",
    "print(\"h has type :\",type(h))"
   ]
  },
  {
   "cell_type": "markdown",
   "metadata": {},
   "source": [
    "# Arithmetic Operators"
   ]
  },
  {
   "cell_type": "code",
   "execution_count": 16,
   "metadata": {},
   "outputs": [],
   "source": [
    "p = 35 #p is the variable assigned to an integer\n",
    "q = 15 #q is the variable assigned to another integer"
   ]
  },
  {
   "cell_type": "code",
   "execution_count": 17,
   "metadata": {},
   "outputs": [
    {
     "name": "stdout",
     "output_type": "stream",
     "text": [
      "Addition of p and q : 50\n"
     ]
    }
   ],
   "source": [
    "print(\"Addition of p and q :\", p+q) #Performing addition to the integers using variables"
   ]
  },
  {
   "cell_type": "code",
   "execution_count": 18,
   "metadata": {},
   "outputs": [
    {
     "name": "stdout",
     "output_type": "stream",
     "text": [
      "Substraction of p and q : 20\n"
     ]
    }
   ],
   "source": [
    "print(\"Substraction of p and q :\", p-q) #Performing substraction to the integers using the variables"
   ]
  },
  {
   "cell_type": "code",
   "execution_count": 19,
   "metadata": {},
   "outputs": [
    {
     "name": "stdout",
     "output_type": "stream",
     "text": [
      "Multiplying of p and q : 525\n"
     ]
    }
   ],
   "source": [
    "print(\"Multiplying of p and q :\", p*q) #Performing Multiplication to the integers using the variables"
   ]
  },
  {
   "cell_type": "code",
   "execution_count": 20,
   "metadata": {},
   "outputs": [
    {
     "name": "stdout",
     "output_type": "stream",
     "text": [
      "Dividing p and q : 2.3333333333333335\n"
     ]
    }
   ],
   "source": [
    "print(\"Dividing p and q :\",p/q) #Performing Division to the integers using the variables"
   ]
  },
  {
   "cell_type": "code",
   "execution_count": 21,
   "metadata": {},
   "outputs": [
    {
     "name": "stdout",
     "output_type": "stream",
     "text": [
      "Floor Division by dividing p and q : 2\n"
     ]
    }
   ],
   "source": [
    "print(\"Floor Division by dividing p and q :\",p//q) \n",
    "#Performing Floor division to the integers using variables. Here in floor division, division is done normally but the value returned is less than or equal to normal value"
   ]
  },
  {
   "cell_type": "code",
   "execution_count": 22,
   "metadata": {},
   "outputs": [
    {
     "name": "stdout",
     "output_type": "stream",
     "text": [
      "Power function for 35 : 1225\n",
      "Power function for 15 : 576650390625\n"
     ]
    }
   ],
   "source": [
    "print(\"Power function for {} :\".format(p),p**2) #Here we have perfomed power function\n",
    "print(\"Power function for {} :\".format(q),q**10)#we can also do exponential funtion too"
   ]
  },
  {
   "cell_type": "markdown",
   "metadata": {},
   "source": [
    "# Comparisonal Operators"
   ]
  },
  {
   "cell_type": "markdown",
   "metadata": {},
   "source": [
    "Comparison operators are \" > \"  (greater than), \" < \"  (smaller than), \" == \"  (Eqaul to), \" != \"  (Not equal to)"
   ]
  },
  {
   "cell_type": "code",
   "execution_count": 23,
   "metadata": {},
   "outputs": [
    {
     "name": "stdout",
     "output_type": "stream",
     "text": [
      "Enter the first value :45\n",
      "Enter the second value :90\n"
     ]
    }
   ],
   "source": [
    "num_1 = int(input(\"Enter the first value :\"))\n",
    "num_2 = int(input(\"Enter the second value :\"))"
   ]
  },
  {
   "cell_type": "code",
   "execution_count": 24,
   "metadata": {},
   "outputs": [
    {
     "name": "stdout",
     "output_type": "stream",
     "text": [
      "num_1 is greater : False\n"
     ]
    }
   ],
   "source": [
    "print(\"num_1 is greater :\", num_1 > num_2)"
   ]
  },
  {
   "cell_type": "code",
   "execution_count": 25,
   "metadata": {},
   "outputs": [
    {
     "name": "stdout",
     "output_type": "stream",
     "text": [
      "num_2 is greater : True\n"
     ]
    }
   ],
   "source": [
    "print(\"num_2 is greater :\", num_1 < num_2)"
   ]
  },
  {
   "cell_type": "code",
   "execution_count": 26,
   "metadata": {},
   "outputs": [
    {
     "name": "stdout",
     "output_type": "stream",
     "text": [
      "num_1 and num_2 are equal : False\n"
     ]
    }
   ],
   "source": [
    "print(\"num_1 and num_2 are equal :\", num_1 == num_2) "
   ]
  },
  {
   "cell_type": "code",
   "execution_count": 27,
   "metadata": {},
   "outputs": [
    {
     "name": "stdout",
     "output_type": "stream",
     "text": [
      "num_1 and num_2 are Not equal : True\n"
     ]
    }
   ],
   "source": [
    "print(\"num_1 and num_2 are Not equal :\", num_1 != num_2) \n",
    "#Performing not equal to function. Here if the integers are equal the ouput will be true else we will get output as false "
   ]
  },
  {
   "cell_type": "markdown",
   "metadata": {},
   "source": [
    "# Logical Operators"
   ]
  },
  {
   "cell_type": "markdown",
   "metadata": {},
   "source": [
    "Logical operators are AND, OR and NOT which are used on conditional statements that returns values either True or False."
   ]
  },
  {
   "cell_type": "code",
   "execution_count": 28,
   "metadata": {},
   "outputs": [],
   "source": [
    "T = True\n",
    "F = False"
   ]
  },
  {
   "cell_type": "code",
   "execution_count": 29,
   "metadata": {},
   "outputs": [
    {
     "name": "stdout",
     "output_type": "stream",
     "text": [
      "False\n",
      "False\n",
      "True\n"
     ]
    }
   ],
   "source": [
    "# Using and operator \n",
    "print(T and F)\n",
    "print(F and F)\n",
    "print(T and T)"
   ]
  },
  {
   "cell_type": "code",
   "execution_count": 30,
   "metadata": {},
   "outputs": [
    {
     "name": "stdout",
     "output_type": "stream",
     "text": [
      "True\n",
      "False\n",
      "True\n"
     ]
    }
   ],
   "source": [
    "# Using or operator\n",
    "print(T or F)\n",
    "print(F or F)\n",
    "print(T or T)"
   ]
  },
  {
   "cell_type": "code",
   "execution_count": 31,
   "metadata": {},
   "outputs": [
    {
     "name": "stdout",
     "output_type": "stream",
     "text": [
      "False\n",
      "True\n"
     ]
    }
   ],
   "source": [
    "# Using not operator\n",
    "print(not T)\n",
    "print(not F)"
   ]
  },
  {
   "cell_type": "markdown",
   "metadata": {},
   "source": [
    "# Using comparison operators and logical operators together"
   ]
  },
  {
   "cell_type": "code",
   "execution_count": 32,
   "metadata": {},
   "outputs": [],
   "source": [
    "# here we have initialized 3 values as r_1, r_2 and r_3\n",
    "r_1=100\n",
    "r_2=45\n",
    "r_3=67"
   ]
  },
  {
   "cell_type": "code",
   "execution_count": 33,
   "metadata": {},
   "outputs": [
    {
     "name": "stdout",
     "output_type": "stream",
     "text": [
      "False\n"
     ]
    }
   ],
   "source": [
    "# Comparing r_1 with r_2 and r_2 with r_3 by using and operator\n",
    "print(r_1 > r_2 and r_2 > r_3)"
   ]
  },
  {
   "cell_type": "code",
   "execution_count": 34,
   "metadata": {},
   "outputs": [
    {
     "name": "stdout",
     "output_type": "stream",
     "text": [
      "True\n"
     ]
    }
   ],
   "source": [
    "# Comparing r_1 with r_2 and r_3 with r_2 by using and operator\n",
    "print(r_1 > r_2 and r_3 > r_2)"
   ]
  },
  {
   "cell_type": "code",
   "execution_count": 35,
   "metadata": {},
   "outputs": [
    {
     "name": "stdout",
     "output_type": "stream",
     "text": [
      "True\n"
     ]
    }
   ],
   "source": [
    "# Comparing r_1 with r_2 and r_3 with r_2 by using or operator\n",
    "print(r_1 > r_2 or r_3 > r_2)"
   ]
  },
  {
   "cell_type": "code",
   "execution_count": 36,
   "metadata": {},
   "outputs": [
    {
     "name": "stdout",
     "output_type": "stream",
     "text": [
      "False\n"
     ]
    }
   ],
   "source": [
    "# Comparing r_1 with r_2 and r_3 with r_2 by using or operator first and then Using not Operator\n",
    "print(not(r_1 > r_2 or r_3 > r_2))"
   ]
  },
  {
   "cell_type": "markdown",
   "metadata": {},
   "source": [
    "# Using input function swap two numbers"
   ]
  },
  {
   "cell_type": "code",
   "execution_count": 37,
   "metadata": {},
   "outputs": [
    {
     "name": "stdout",
     "output_type": "stream",
     "text": [
      "Enter the first number :34\n",
      "Enter the second number :76\n",
      "The first value will be : 76.0\n",
      "The second value will be : 34.0\n"
     ]
    }
   ],
   "source": [
    "# Method 1\n",
    "x = float(input(\"Enter the first number :\")) # Assigning variable to first value through input function\n",
    "y = float(input(\"Enter the second number :\")) # Assigning variable to second value through input function\n",
    "x,y=y,x # Swapping the values\n",
    "# After swapping the values will be\n",
    "print(\"The first value will be :\",x)\n",
    "print(\"The second value will be :\",y)"
   ]
  },
  {
   "cell_type": "code",
   "execution_count": 38,
   "metadata": {},
   "outputs": [
    {
     "name": "stdout",
     "output_type": "stream",
     "text": [
      "Enter the first number :8\n",
      "Enter the second number :43\n",
      "The first value will be : 43.0\n",
      "The second value will be : 8.0\n"
     ]
    }
   ],
   "source": [
    "# Method 2\n",
    "# Using third variable \n",
    "x = float(input(\"Enter the first number :\"))\n",
    "y = float(input(\"Enter the second number :\"))\n",
    "z = 0 # initializing the 3rd variable.The variable is a temporary variable \n",
    "z = x\n",
    "x = y\n",
    "y = z\n",
    "print(\"The first value will be :\",x)\n",
    "print(\"The second value will be :\",y)"
   ]
  },
  {
   "cell_type": "code",
   "execution_count": 39,
   "metadata": {},
   "outputs": [
    {
     "name": "stdout",
     "output_type": "stream",
     "text": [
      "Enter the first number :45.8\n",
      "Enter the second number :78.96\n",
      "The first value will be : 78.96\n",
      "The second value will be : 45.8\n"
     ]
    }
   ],
   "source": [
    "# Method 3\n",
    "#Using Arithmetic Operations\n",
    "x = float(input(\"Enter the first number :\"))\n",
    "y = float(input(\"Enter the second number :\"))\n",
    "x = x + y\n",
    "y = x - y\n",
    "x = x - y\n",
    "print(\"The first value will be :\",x)\n",
    "print(\"The second value will be :\",y)"
   ]
  },
  {
   "cell_type": "markdown",
   "metadata": {},
   "source": [
    "Here we got the answer in decimals as we used float function , we can use integer(int) function also"
   ]
  },
  {
   "cell_type": "code",
   "execution_count": null,
   "metadata": {},
   "outputs": [],
   "source": []
  }
 ],
 "metadata": {
  "kernelspec": {
   "display_name": "Python 3",
   "language": "python",
   "name": "python3"
  },
  "language_info": {
   "codemirror_mode": {
    "name": "ipython",
    "version": 3
   },
   "file_extension": ".py",
   "mimetype": "text/x-python",
   "name": "python",
   "nbconvert_exporter": "python",
   "pygments_lexer": "ipython3",
   "version": "3.8.5"
  }
 },
 "nbformat": 4,
 "nbformat_minor": 4
}
